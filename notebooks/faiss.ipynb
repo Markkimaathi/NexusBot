{
 "cells": [
  {
   "cell_type": "code",
   "execution_count": 44,
   "metadata": {},
   "outputs": [
    {
     "name": "stdout",
     "output_type": "stream",
     "text": [
      "Requirement already satisfied: faiss-cpu in c:\\users\\kaari\\appdata\\local\\programs\\python\\python312\\lib\\site-packages (1.8.0.post1)\n",
      "Requirement already satisfied: numpy<2.0,>=1.0 in c:\\users\\kaari\\appdata\\local\\programs\\python\\python312\\lib\\site-packages (from faiss-cpu) (1.26.4)\n",
      "Requirement already satisfied: packaging in c:\\users\\kaari\\appdata\\roaming\\python\\python312\\site-packages (from faiss-cpu) (24.1)\n",
      "Note: you may need to restart the kernel to use updated packages.\n",
      "Requirement already satisfied: sentence-transformers in c:\\users\\kaari\\appdata\\local\\programs\\python\\python312\\lib\\site-packages (3.0.1)\n",
      "Requirement already satisfied: transformers<5.0.0,>=4.34.0 in c:\\users\\kaari\\appdata\\local\\programs\\python\\python312\\lib\\site-packages (from sentence-transformers) (4.44.2)\n",
      "Requirement already satisfied: tqdm in c:\\users\\kaari\\appdata\\local\\programs\\python\\python312\\lib\\site-packages (from sentence-transformers) (4.66.5)\n",
      "Requirement already satisfied: torch>=1.11.0 in c:\\users\\kaari\\appdata\\local\\programs\\python\\python312\\lib\\site-packages (from sentence-transformers) (2.4.0)\n",
      "Requirement already satisfied: numpy in c:\\users\\kaari\\appdata\\local\\programs\\python\\python312\\lib\\site-packages (from sentence-transformers) (1.26.4)\n",
      "Requirement already satisfied: scikit-learn in c:\\users\\kaari\\appdata\\local\\programs\\python\\python312\\lib\\site-packages (from sentence-transformers) (1.5.1)\n",
      "Requirement already satisfied: scipy in c:\\users\\kaari\\appdata\\local\\programs\\python\\python312\\lib\\site-packages (from sentence-transformers) (1.14.1)\n",
      "Requirement already satisfied: huggingface-hub>=0.15.1 in c:\\users\\kaari\\appdata\\local\\programs\\python\\python312\\lib\\site-packages (from sentence-transformers) (0.24.6)\n",
      "Requirement already satisfied: Pillow in c:\\users\\kaari\\appdata\\local\\programs\\python\\python312\\lib\\site-packages (from sentence-transformers) (10.2.0)\n",
      "Requirement already satisfied: filelock in c:\\users\\kaari\\appdata\\local\\programs\\python\\python312\\lib\\site-packages (from huggingface-hub>=0.15.1->sentence-transformers) (3.15.4)\n",
      "Requirement already satisfied: fsspec>=2023.5.0 in c:\\users\\kaari\\appdata\\local\\programs\\python\\python312\\lib\\site-packages (from huggingface-hub>=0.15.1->sentence-transformers) (2024.6.1)\n",
      "Requirement already satisfied: packaging>=20.9 in c:\\users\\kaari\\appdata\\roaming\\python\\python312\\site-packages (from huggingface-hub>=0.15.1->sentence-transformers) (24.1)\n",
      "Requirement already satisfied: pyyaml>=5.1 in c:\\users\\kaari\\appdata\\local\\programs\\python\\python312\\lib\\site-packages (from huggingface-hub>=0.15.1->sentence-transformers) (6.0.2)\n",
      "Requirement already satisfied: requests in c:\\users\\kaari\\appdata\\local\\programs\\python\\python312\\lib\\site-packages (from huggingface-hub>=0.15.1->sentence-transformers) (2.31.0)\n",
      "Requirement already satisfied: typing-extensions>=3.7.4.3 in c:\\users\\kaari\\appdata\\local\\programs\\python\\python312\\lib\\site-packages (from huggingface-hub>=0.15.1->sentence-transformers) (4.12.2)\n",
      "Requirement already satisfied: sympy in c:\\users\\kaari\\appdata\\local\\programs\\python\\python312\\lib\\site-packages (from torch>=1.11.0->sentence-transformers) (1.13.2)\n",
      "Requirement already satisfied: networkx in c:\\users\\kaari\\appdata\\local\\programs\\python\\python312\\lib\\site-packages (from torch>=1.11.0->sentence-transformers) (3.3)\n",
      "Requirement already satisfied: jinja2 in c:\\users\\kaari\\appdata\\local\\programs\\python\\python312\\lib\\site-packages (from torch>=1.11.0->sentence-transformers) (3.1.2)\n",
      "Requirement already satisfied: setuptools in c:\\users\\kaari\\appdata\\local\\programs\\python\\python312\\lib\\site-packages (from torch>=1.11.0->sentence-transformers) (74.1.1)\n",
      "Requirement already satisfied: colorama in c:\\users\\kaari\\appdata\\local\\programs\\python\\python312\\lib\\site-packages (from tqdm->sentence-transformers) (0.4.6)\n",
      "Requirement already satisfied: regex!=2019.12.17 in c:\\users\\kaari\\appdata\\local\\programs\\python\\python312\\lib\\site-packages (from transformers<5.0.0,>=4.34.0->sentence-transformers) (2024.7.24)\n",
      "Requirement already satisfied: safetensors>=0.4.1 in c:\\users\\kaari\\appdata\\local\\programs\\python\\python312\\lib\\site-packages (from transformers<5.0.0,>=4.34.0->sentence-transformers) (0.4.4)\n",
      "Requirement already satisfied: tokenizers<0.20,>=0.19 in c:\\users\\kaari\\appdata\\local\\programs\\python\\python312\\lib\\site-packages (from transformers<5.0.0,>=4.34.0->sentence-transformers) (0.19.1)\n",
      "Requirement already satisfied: joblib>=1.2.0 in c:\\users\\kaari\\appdata\\local\\programs\\python\\python312\\lib\\site-packages (from scikit-learn->sentence-transformers) (1.4.2)\n",
      "Requirement already satisfied: threadpoolctl>=3.1.0 in c:\\users\\kaari\\appdata\\local\\programs\\python\\python312\\lib\\site-packages (from scikit-learn->sentence-transformers) (3.5.0)\n",
      "Requirement already satisfied: MarkupSafe>=2.0 in c:\\users\\kaari\\appdata\\local\\programs\\python\\python312\\lib\\site-packages (from jinja2->torch>=1.11.0->sentence-transformers) (2.1.5)\n",
      "Requirement already satisfied: charset-normalizer<4,>=2 in c:\\users\\kaari\\appdata\\local\\programs\\python\\python312\\lib\\site-packages (from requests->huggingface-hub>=0.15.1->sentence-transformers) (3.3.2)\n",
      "Requirement already satisfied: idna<4,>=2.5 in c:\\users\\kaari\\appdata\\local\\programs\\python\\python312\\lib\\site-packages (from requests->huggingface-hub>=0.15.1->sentence-transformers) (3.8)\n",
      "Requirement already satisfied: urllib3<3,>=1.21.1 in c:\\users\\kaari\\appdata\\local\\programs\\python\\python312\\lib\\site-packages (from requests->huggingface-hub>=0.15.1->sentence-transformers) (2.0.7)\n",
      "Requirement already satisfied: certifi>=2017.4.17 in c:\\users\\kaari\\appdata\\local\\programs\\python\\python312\\lib\\site-packages (from requests->huggingface-hub>=0.15.1->sentence-transformers) (2024.7.4)\n",
      "Requirement already satisfied: mpmath<1.4,>=1.1.0 in c:\\users\\kaari\\appdata\\local\\programs\\python\\python312\\lib\\site-packages (from sympy->torch>=1.11.0->sentence-transformers) (1.3.0)\n",
      "Note: you may need to restart the kernel to use updated packages.\n"
     ]
    }
   ],
   "source": [
    "%pip install faiss-cpu\n",
    "%pip install sentence-transformers\n"
   ]
  },
  {
   "cell_type": "code",
   "execution_count": 45,
   "metadata": {},
   "outputs": [
    {
     "name": "stdout",
     "output_type": "stream",
     "text": [
      "Requirement already satisfied: pandas in c:\\users\\kaari\\appdata\\local\\programs\\python\\python312\\lib\\site-packages (2.2.2)\n",
      "Requirement already satisfied: numpy>=1.26.0 in c:\\users\\kaari\\appdata\\local\\programs\\python\\python312\\lib\\site-packages (from pandas) (1.26.4)\n",
      "Requirement already satisfied: python-dateutil>=2.8.2 in c:\\users\\kaari\\appdata\\local\\programs\\python\\python312\\lib\\site-packages (from pandas) (2.9.0.post0)\n",
      "Requirement already satisfied: pytz>=2020.1 in c:\\users\\kaari\\appdata\\local\\programs\\python\\python312\\lib\\site-packages (from pandas) (2024.1)\n",
      "Requirement already satisfied: tzdata>=2022.7 in c:\\users\\kaari\\appdata\\local\\programs\\python\\python312\\lib\\site-packages (from pandas) (2024.1)\n",
      "Requirement already satisfied: six>=1.5 in c:\\users\\kaari\\appdata\\local\\programs\\python\\python312\\lib\\site-packages (from python-dateutil>=2.8.2->pandas) (1.16.0)\n",
      "Note: you may need to restart the kernel to use updated packages.\n"
     ]
    }
   ],
   "source": [
    "%pip install pandas"
   ]
  },
  {
   "cell_type": "code",
   "execution_count": 46,
   "metadata": {},
   "outputs": [
    {
     "data": {
      "text/plain": [
       "(8, 2)"
      ]
     },
     "execution_count": 46,
     "metadata": {},
     "output_type": "execute_result"
    }
   ],
   "source": [
    "import pandas as pd\n",
    "pd.set_option('display.max_colwidth', 100)\n",
    "\n",
    "df = pd.read_csv(\"sample_text.csv\")\n",
    "df.shape"
   ]
  },
  {
   "cell_type": "code",
   "execution_count": 47,
   "metadata": {},
   "outputs": [
    {
     "data": {
      "text/html": [
       "<div>\n",
       "<style scoped>\n",
       "    .dataframe tbody tr th:only-of-type {\n",
       "        vertical-align: middle;\n",
       "    }\n",
       "\n",
       "    .dataframe tbody tr th {\n",
       "        vertical-align: top;\n",
       "    }\n",
       "\n",
       "    .dataframe thead th {\n",
       "        text-align: right;\n",
       "    }\n",
       "</style>\n",
       "<table border=\"1\" class=\"dataframe\">\n",
       "  <thead>\n",
       "    <tr style=\"text-align: right;\">\n",
       "      <th></th>\n",
       "      <th>text</th>\n",
       "      <th>category</th>\n",
       "    </tr>\n",
       "  </thead>\n",
       "  <tbody>\n",
       "    <tr>\n",
       "      <th>0</th>\n",
       "      <td>Meditation and yoga can improve mental health</td>\n",
       "      <td>Health</td>\n",
       "    </tr>\n",
       "    <tr>\n",
       "      <th>1</th>\n",
       "      <td>Fruits, whole grains and vegetables helps control blood pressure</td>\n",
       "      <td>Health</td>\n",
       "    </tr>\n",
       "    <tr>\n",
       "      <th>2</th>\n",
       "      <td>These are the latest fashion trends for this week</td>\n",
       "      <td>Fashion</td>\n",
       "    </tr>\n",
       "    <tr>\n",
       "      <th>3</th>\n",
       "      <td>Vibrant color jeans for male are becoming a trend</td>\n",
       "      <td>Fashion</td>\n",
       "    </tr>\n",
       "    <tr>\n",
       "      <th>4</th>\n",
       "      <td>The concert starts at 7 PM tonight</td>\n",
       "      <td>Event</td>\n",
       "    </tr>\n",
       "    <tr>\n",
       "      <th>5</th>\n",
       "      <td>Navaratri dandiya program at Expo center in Mumbai this october</td>\n",
       "      <td>Event</td>\n",
       "    </tr>\n",
       "    <tr>\n",
       "      <th>6</th>\n",
       "      <td>Exciting vacation destinations for your next trip</td>\n",
       "      <td>Travel</td>\n",
       "    </tr>\n",
       "    <tr>\n",
       "      <th>7</th>\n",
       "      <td>Maldives and Srilanka are gaining popularity in terms of low budget vacation places</td>\n",
       "      <td>Travel</td>\n",
       "    </tr>\n",
       "  </tbody>\n",
       "</table>\n",
       "</div>"
      ],
      "text/plain": [
       "                                                                                  text  \\\n",
       "0                                        Meditation and yoga can improve mental health   \n",
       "1                     Fruits, whole grains and vegetables helps control blood pressure   \n",
       "2                                    These are the latest fashion trends for this week   \n",
       "3                                    Vibrant color jeans for male are becoming a trend   \n",
       "4                                                   The concert starts at 7 PM tonight   \n",
       "5                      Navaratri dandiya program at Expo center in Mumbai this october   \n",
       "6                                    Exciting vacation destinations for your next trip   \n",
       "7  Maldives and Srilanka are gaining popularity in terms of low budget vacation places   \n",
       "\n",
       "  category  \n",
       "0   Health  \n",
       "1   Health  \n",
       "2  Fashion  \n",
       "3  Fashion  \n",
       "4    Event  \n",
       "5    Event  \n",
       "6   Travel  \n",
       "7   Travel  "
      ]
     },
     "execution_count": 47,
     "metadata": {},
     "output_type": "execute_result"
    }
   ],
   "source": [
    "df"
   ]
  },
  {
   "cell_type": "code",
   "execution_count": 48,
   "metadata": {},
   "outputs": [],
   "source": [
    "from sentence_transformers import SentenceTransformer"
   ]
  },
  {
   "cell_type": "code",
   "execution_count": 49,
   "metadata": {},
   "outputs": [
    {
     "name": "stderr",
     "output_type": "stream",
     "text": [
      "c:\\Users\\Kaari\\AppData\\Local\\Programs\\Python\\Python312\\Lib\\site-packages\\transformers\\tokenization_utils_base.py:1601: FutureWarning: `clean_up_tokenization_spaces` was not set. It will be set to `True` by default. This behavior will be depracted in transformers v4.45, and will be then set to `False` by default. For more details check this issue: https://github.com/huggingface/transformers/issues/31884\n",
      "  warnings.warn(\n"
     ]
    }
   ],
   "source": [
    "encoder = SentenceTransformer(\"all-mpnet-base-v2\")\n",
    "vectors = encoder.encode(df.text)"
   ]
  },
  {
   "cell_type": "code",
   "execution_count": 50,
   "metadata": {},
   "outputs": [
    {
     "data": {
      "text/plain": [
       "(8, 768)"
      ]
     },
     "execution_count": 50,
     "metadata": {},
     "output_type": "execute_result"
    }
   ],
   "source": [
    "vectors.shape"
   ]
  },
  {
   "cell_type": "code",
   "execution_count": 51,
   "metadata": {},
   "outputs": [
    {
     "data": {
      "text/plain": [
       "768"
      ]
     },
     "execution_count": 51,
     "metadata": {},
     "output_type": "execute_result"
    }
   ],
   "source": [
    "dim = vectors.shape[1]\n",
    "dim"
   ]
  },
  {
   "cell_type": "code",
   "execution_count": 52,
   "metadata": {},
   "outputs": [],
   "source": [
    "import faiss\n",
    "\n",
    "index = faiss.IndexFlatL2(dim)"
   ]
  },
  {
   "cell_type": "code",
   "execution_count": 53,
   "metadata": {},
   "outputs": [],
   "source": [
    "index.add(vectors)"
   ]
  },
  {
   "cell_type": "code",
   "execution_count": 54,
   "metadata": {},
   "outputs": [
    {
     "data": {
      "text/plain": [
       "<faiss.swigfaiss_avx2.IndexFlatL2; proxy of <Swig Object of type 'faiss::IndexFlatL2 *' at 0x000002B562B0EDC0> >"
      ]
     },
     "execution_count": 54,
     "metadata": {},
     "output_type": "execute_result"
    }
   ],
   "source": [
    "index"
   ]
  },
  {
   "cell_type": "code",
   "execution_count": 55,
   "metadata": {},
   "outputs": [
    {
     "data": {
      "text/plain": [
       "(768,)"
      ]
     },
     "execution_count": 55,
     "metadata": {},
     "output_type": "execute_result"
    }
   ],
   "source": [
    "search_query = \"I want to buy a polo t-shirt\"\n",
    "# search_query = \"looking for places to visit during the holidays\"\n",
    "# search_query = \"An apple a day keeps the doctor away\"\n",
    "vec = encoder.encode(search_query)\n",
    "vec.shape"
   ]
  },
  {
   "cell_type": "code",
   "execution_count": 56,
   "metadata": {},
   "outputs": [
    {
     "data": {
      "text/plain": [
       "[array([ 1.03882970e-02,  2.78685931e-02, -1.18617984e-02,  1.81326885e-02,\n",
       "         1.21980556e-03, -1.42995538e-02,  1.96229331e-02,  2.07197927e-02,\n",
       "        -2.23660190e-02,  4.75626513e-02,  1.77976619e-02, -8.00328981e-03,\n",
       "         2.53419522e-02,  5.26148863e-02,  8.44946783e-03, -1.63943544e-02,\n",
       "         1.02661224e-02, -2.74856780e-02,  8.37067589e-02, -1.52885253e-02,\n",
       "         1.67682134e-02, -3.97138717e-03, -2.74348762e-02,  5.02092056e-02,\n",
       "        -8.36521108e-03, -4.74075228e-02,  2.36915927e-02, -1.01185925e-02,\n",
       "        -2.82840636e-02,  7.94264581e-03,  4.21435460e-02, -4.19378141e-03,\n",
       "        -1.91232152e-02, -3.12785842e-02,  1.24685096e-06, -1.04428446e-02,\n",
       "        -2.19970997e-02, -8.66928026e-02, -1.88510364e-03, -2.54771803e-02,\n",
       "        -9.72973183e-03,  7.93309733e-02, -3.55962850e-02, -3.05289374e-04,\n",
       "        -1.12392502e-02, -3.88932042e-02,  5.49314134e-02,  1.35207981e-01,\n",
       "        -8.19147304e-02,  1.18785407e-02, -9.01851058e-03,  1.92544367e-02,\n",
       "        -2.82723382e-02, -3.29267010e-02, -2.20107846e-02, -4.29836437e-02,\n",
       "         3.70104834e-02, -4.80649322e-02,  9.49254166e-03,  3.51586044e-02,\n",
       "         4.88772430e-02, -3.28933187e-02, -1.24119669e-02, -1.64292194e-02,\n",
       "         3.93722393e-02,  2.69109719e-02,  6.15457669e-02, -4.14120685e-03,\n",
       "         1.75675061e-02,  1.53993946e-02,  9.60068870e-03, -5.69591240e-04,\n",
       "        -4.83582504e-02,  4.25831415e-02,  1.10986074e-02, -4.66182753e-02,\n",
       "        -2.10595853e-03, -5.81461713e-02,  1.40413344e-02,  1.00883832e-02,\n",
       "        -2.44589821e-02,  1.42714847e-02, -2.10581739e-02,  7.38854632e-02,\n",
       "        -2.23949831e-02,  1.38753364e-02, -1.33592833e-03,  9.21316445e-03,\n",
       "        -2.84222048e-02, -4.04208386e-03, -1.71392709e-02, -8.46530031e-03,\n",
       "        -2.83983741e-02, -3.69299948e-02, -9.47201028e-02, -3.26580629e-02,\n",
       "         2.60050278e-02,  1.31179560e-02,  1.51670277e-02, -2.12384574e-03,\n",
       "         1.48177836e-02,  1.37816435e-02,  1.25303259e-02, -5.01471153e-03,\n",
       "         3.56062278e-02,  5.93454204e-02, -5.03397621e-02, -9.55995172e-03,\n",
       "        -7.23669156e-02,  9.45847295e-03,  1.54203111e-02, -7.03749154e-03,\n",
       "        -3.10013853e-02, -8.86356737e-03, -2.98001319e-02, -8.84007737e-02,\n",
       "        -2.25059036e-02, -3.25824507e-02,  4.78069670e-02,  2.14025518e-03,\n",
       "         1.37758511e-03, -1.25065753e-02, -1.15712723e-02,  2.34021377e-02,\n",
       "         3.43841757e-03,  2.69363634e-02, -6.23306967e-02, -5.29249944e-03,\n",
       "         1.73172110e-03,  3.20439301e-02,  2.13053034e-04, -1.54124014e-02,\n",
       "         5.08342907e-02, -4.52312455e-02, -1.67427957e-02, -3.47917825e-02,\n",
       "        -4.16715778e-02, -2.34929342e-02,  2.40799785e-03, -2.15250775e-02,\n",
       "         3.07006668e-03,  2.54971460e-02,  3.60133685e-02,  2.68477313e-02,\n",
       "        -4.22385745e-02, -2.45388485e-02,  3.93799171e-02,  6.31310605e-03,\n",
       "         2.03843638e-02, -2.22935192e-02, -7.87331164e-03, -1.47401029e-02,\n",
       "         4.87235412e-02, -2.55933385e-02, -1.08920680e-02, -3.37022878e-02,\n",
       "         4.69094813e-02,  1.95821021e-02,  4.13414976e-03,  2.72843000e-02,\n",
       "         4.72971500e-04,  2.55070236e-02, -5.26175983e-02,  3.57674807e-02,\n",
       "        -5.46486489e-03, -3.90751511e-02, -4.51455861e-02, -1.37631567e-02,\n",
       "         5.50720654e-02,  3.80344018e-02, -4.58983891e-02,  4.83393762e-03,\n",
       "        -2.92574465e-02, -4.76550311e-03,  9.17754173e-02, -9.70400348e-02,\n",
       "         1.05631724e-01, -5.64411506e-02, -6.33301064e-02,  3.45335528e-02,\n",
       "        -5.77133186e-02, -1.21777333e-01,  9.45337117e-03,  2.02731304e-02,\n",
       "         2.63031572e-02,  3.96899786e-03, -3.88275646e-02, -1.57009512e-02,\n",
       "        -3.47952582e-02, -3.07988171e-02,  3.24619673e-02, -4.84479591e-02,\n",
       "         4.39479901e-03, -1.72206797e-02,  1.15616393e-04, -3.72782536e-02,\n",
       "        -5.17302752e-02, -1.91914402e-02, -3.10722608e-02,  4.77236509e-03,\n",
       "        -5.49006760e-02, -1.40049420e-02,  2.99300849e-02,  9.23176855e-02,\n",
       "        -2.96304431e-02,  2.45515555e-02,  3.50713432e-02, -5.64084901e-03,\n",
       "         1.57490354e-02,  2.08431352e-02,  5.11531867e-02,  7.25738052e-03,\n",
       "         4.40727128e-03, -2.58071888e-02,  4.99891769e-03, -1.47741230e-03,\n",
       "        -4.42322483e-03,  4.48388904e-02,  7.79227912e-02,  1.65747888e-02,\n",
       "        -3.80822942e-02,  3.76828089e-02,  1.02415606e-01, -1.61058716e-02,\n",
       "         7.32476562e-02, -1.11488709e-02,  3.81629877e-02,  2.02278476e-02,\n",
       "        -1.23597775e-02,  2.38338429e-02, -2.99291294e-02, -7.08028721e-03,\n",
       "         1.23009644e-02, -6.69539673e-03, -6.65793717e-02,  6.94696456e-02,\n",
       "         1.02031427e-02, -2.23912597e-02, -1.79656390e-02, -3.10914740e-02,\n",
       "        -3.04419044e-02, -2.43375003e-02,  2.62913555e-02, -1.44890882e-02,\n",
       "        -3.44527625e-02,  3.69894644e-03,  2.34962329e-02, -2.20465343e-02,\n",
       "        -6.40620664e-02, -3.29653062e-02, -1.13152917e-02,  4.46261764e-02,\n",
       "         2.82178000e-02, -1.32326391e-02, -2.48316359e-02, -4.16193865e-02,\n",
       "        -3.17104869e-02, -2.90321559e-03, -2.58373469e-02, -2.38407776e-02,\n",
       "         4.09953445e-02, -3.72039080e-02,  3.80426645e-02,  2.60185115e-02,\n",
       "         3.78452204e-02, -1.22929662e-02, -1.78747941e-02,  2.22684778e-02,\n",
       "        -1.39293773e-02,  3.33373551e-03, -1.01043787e-02, -9.42678973e-02,\n",
       "         2.93327905e-02, -2.11533681e-02, -8.28086305e-03,  9.39185079e-03,\n",
       "         7.01194182e-02, -2.47648377e-02, -7.45412009e-03,  1.81595236e-02,\n",
       "         2.10113451e-02,  5.30432165e-02, -1.83114223e-02,  2.45677792e-02,\n",
       "         1.81325804e-02, -1.36736399e-02, -2.25666096e-03,  2.27259248e-02,\n",
       "        -1.32561428e-02,  5.31734228e-02,  2.84628454e-03, -1.26053169e-02,\n",
       "         5.37054725e-02, -2.62218490e-02,  6.28261715e-02, -3.38792577e-02,\n",
       "         1.24345673e-02,  3.83227225e-03,  2.31522899e-02, -7.25013316e-02,\n",
       "        -4.14390024e-03, -4.29396257e-02, -9.25694592e-03, -1.02920309e-02,\n",
       "        -2.94399802e-02, -1.51161384e-02,  1.03488173e-02, -8.83051474e-03,\n",
       "         7.79079180e-03,  6.15880080e-02, -2.56217811e-02,  2.67890729e-02,\n",
       "        -3.48656066e-02, -3.35103758e-02,  4.58869338e-02,  2.87142433e-02,\n",
       "        -1.73843764e-02,  9.46801975e-02, -2.42618527e-02,  2.83706933e-02,\n",
       "         5.47290314e-03, -3.05395760e-02, -2.04882231e-02,  1.14951488e-02,\n",
       "        -2.06157006e-02, -4.73046005e-02, -5.66246978e-04,  2.54014451e-02,\n",
       "        -4.44826223e-02, -3.05529144e-02, -2.27482393e-02,  5.34631126e-03,\n",
       "        -1.77380349e-02,  8.93095043e-03,  6.29971828e-03, -4.71267328e-02,\n",
       "         9.71081108e-03, -1.98281128e-02, -1.95309501e-02,  2.61490755e-02,\n",
       "         2.61224783e-03, -2.84732617e-02, -8.45039263e-03, -6.73168376e-02,\n",
       "        -8.53152797e-02, -3.01742461e-02,  3.68127041e-02,  2.59252526e-02,\n",
       "        -6.74630925e-02, -5.72894514e-02, -1.90710910e-02, -2.98832357e-02,\n",
       "        -1.49018746e-02, -6.44187629e-03, -1.42151937e-02,  3.73985097e-02,\n",
       "         1.12887879e-03,  2.28630044e-02, -4.47166748e-02,  2.30517313e-02,\n",
       "         6.29057700e-04,  4.42759879e-02,  2.46650893e-02,  3.51332538e-02,\n",
       "        -3.61627005e-02, -4.75540124e-02,  1.82498060e-02,  3.07629779e-02,\n",
       "         1.00456469e-03, -1.84898451e-02, -2.19226349e-05,  7.50035793e-02,\n",
       "         3.62004153e-02,  6.58764467e-02, -1.86646767e-02,  4.20117080e-02,\n",
       "        -2.29517301e-03,  6.42548800e-02,  5.11614829e-02, -1.55825568e-02,\n",
       "        -7.13915564e-04,  3.42612527e-02, -6.07565697e-03,  2.43100170e-02,\n",
       "        -1.24312947e-02, -4.36682664e-02,  2.47560050e-02, -3.65800299e-02,\n",
       "         2.03333106e-02, -3.50792110e-02,  1.50017152e-02,  7.63922185e-02,\n",
       "         6.04431704e-02,  6.65943548e-02,  3.30564636e-03,  3.46694067e-02,\n",
       "        -1.60530373e-03, -2.37293392e-02,  9.55964625e-03, -8.56768712e-03,\n",
       "        -1.43413469e-02,  9.41570476e-02,  3.45746316e-02,  7.35700876e-02,\n",
       "         2.54632980e-02, -3.96389514e-02,  2.52090059e-02,  7.53591582e-02,\n",
       "        -3.82415913e-02, -3.73829380e-02, -5.41513562e-02,  2.40689050e-02,\n",
       "        -3.08086853e-02, -6.20014546e-03, -7.64311850e-03, -3.59187983e-02,\n",
       "         1.13591726e-03, -4.66332631e-03,  2.37280317e-02, -4.54729274e-02,\n",
       "        -1.95235817e-03,  1.30089596e-02, -4.03874777e-02,  3.14238034e-02,\n",
       "         3.25081833e-02,  2.98244655e-02, -7.06283026e-04, -8.04493129e-02,\n",
       "        -1.45465294e-02, -1.17486231e-02, -3.25348787e-02,  3.16704698e-02,\n",
       "        -4.22670282e-02,  6.71451315e-02, -1.01962619e-01, -3.84004265e-02,\n",
       "        -1.90570764e-02,  5.59220314e-02,  7.67455110e-03,  5.18108867e-02,\n",
       "         1.68128889e-02, -1.31116603e-02,  2.82030669e-03,  1.55521662e-03,\n",
       "        -5.03711053e-04, -3.61105688e-02, -6.84431894e-03,  1.76924989e-02,\n",
       "        -2.98449975e-02, -4.57744934e-02,  1.10833757e-02, -1.51629969e-02,\n",
       "         3.66882631e-03,  8.08091089e-02, -1.80434994e-02, -1.02007983e-03,\n",
       "        -4.84600867e-04,  3.22403163e-02, -1.65945124e-02,  1.84553745e-03,\n",
       "         5.07566966e-02,  1.58889573e-02, -6.26497567e-02, -1.95617843e-02,\n",
       "         4.34030071e-02, -5.68293035e-02,  1.05988391e-01, -4.80109677e-02,\n",
       "         1.00578135e-02,  2.19856836e-02, -3.14385258e-02,  1.16583426e-02,\n",
       "         3.97340581e-02, -1.13187330e-02,  5.83116896e-02,  2.77364743e-03,\n",
       "         6.33228868e-02,  4.29547764e-02,  2.16283407e-02,  3.85455899e-02,\n",
       "        -2.44158916e-02,  1.34006264e-02,  2.94842548e-03,  7.02529168e-03,\n",
       "        -1.87546536e-02,  4.76556681e-02,  6.15999363e-02,  1.85416099e-02,\n",
       "        -1.38640543e-02, -4.43653911e-02, -2.19828282e-02,  1.19857518e-02,\n",
       "        -3.77185643e-02, -6.42945468e-02, -2.67556757e-02,  5.12968637e-02,\n",
       "         2.78437454e-02, -6.28402531e-02, -3.17041390e-02,  2.21165698e-02,\n",
       "        -1.41523052e-02, -6.07151259e-03,  7.16667399e-02,  1.14129744e-02,\n",
       "         3.74981458e-03, -6.88135922e-02,  4.47596945e-02, -3.12532708e-02,\n",
       "         1.41535969e-02, -3.08248233e-02, -7.57669623e-04, -5.60958264e-03,\n",
       "         4.05324623e-02,  5.67562587e-04,  1.03436727e-02,  8.89484882e-02,\n",
       "        -8.93711112e-03, -6.23021349e-02,  2.01754812e-02, -1.27847875e-02,\n",
       "         1.61151886e-02, -1.23151112e-02,  2.49236617e-02,  2.02201661e-02,\n",
       "        -2.01465935e-02,  4.14759517e-02, -2.72540450e-02, -3.96626182e-02,\n",
       "        -2.26232167e-02,  1.40824879e-03,  1.52835650e-02, -6.26358464e-02,\n",
       "         6.85891137e-02,  2.12807767e-02, -4.11786810e-02,  7.12969154e-02,\n",
       "        -2.85411812e-02, -1.06836157e-02, -1.89546272e-02,  1.78564116e-02,\n",
       "        -3.75272334e-02,  6.14923600e-04,  4.38690297e-02,  1.56059368e-02,\n",
       "         3.15992162e-03,  5.58508746e-03, -5.97151415e-03,  2.85605788e-02,\n",
       "        -9.22785513e-03,  9.27613582e-03,  2.80325022e-02,  6.93220571e-02,\n",
       "        -3.44454944e-02, -2.25160010e-02,  2.57091653e-02, -4.39213877e-33,\n",
       "        -3.64304669e-02, -2.59273010e-03,  9.11507476e-03,  3.95197906e-02,\n",
       "         1.37440730e-02,  3.83450114e-03,  2.09222594e-03, -6.76701916e-03,\n",
       "         1.25046028e-02, -1.33823249e-02, -1.84271566e-03,  1.20097874e-02,\n",
       "         1.55763999e-02,  7.08786596e-04,  7.13027045e-02, -5.37559129e-02,\n",
       "         2.44811680e-02, -4.40049507e-02, -1.36816315e-02, -1.33414632e-02,\n",
       "        -2.93123610e-02, -1.21151507e-02,  6.02591410e-02,  1.02625629e-02,\n",
       "         3.59791256e-02, -3.84313352e-02,  2.23756973e-02,  1.09116193e-02,\n",
       "         6.93022907e-02,  1.61974560e-02, -3.05023920e-02,  4.06713746e-02,\n",
       "        -3.92037146e-02, -3.48173529e-02,  4.40173522e-02,  2.78183781e-02,\n",
       "        -5.45107946e-03, -2.34863404e-02,  9.80811566e-03,  2.96252947e-02,\n",
       "         4.15044166e-02, -8.76813233e-02, -8.35824609e-02, -2.17031594e-02,\n",
       "        -3.72131728e-02, -8.14558100e-03, -1.64230503e-02, -3.21023818e-03,\n",
       "         7.74319563e-03, -4.88729812e-02, -3.05723259e-03, -2.07577571e-02,\n",
       "         1.43916430e-02, -2.15989538e-02,  5.19237109e-02,  3.22398767e-02,\n",
       "         2.97001079e-02,  6.64229840e-02,  3.49241644e-02,  6.32982329e-02,\n",
       "         2.76507214e-02, -6.43675923e-02, -1.97426733e-02, -6.66220561e-02,\n",
       "        -2.80177426e-02, -2.66223475e-02, -1.15307560e-02, -2.93885311e-03,\n",
       "         2.88166832e-02, -3.48908342e-02,  1.28499558e-02,  2.38518976e-02,\n",
       "        -2.04858538e-02,  3.24630737e-02,  2.07587983e-02,  3.60320397e-02,\n",
       "         1.18891681e-02,  2.08263621e-02,  5.34499288e-02,  3.98998000e-02,\n",
       "         1.93191145e-03,  4.08156738e-02,  1.73660833e-02,  1.62020531e-02,\n",
       "        -3.99373658e-02, -5.42060547e-02, -9.92144179e-03, -2.20064167e-02,\n",
       "         2.27758270e-02, -3.69541091e-03, -5.12675345e-02, -3.43792178e-02,\n",
       "         2.70802975e-02,  6.55448157e-03, -8.59292522e-02, -6.78600147e-02,\n",
       "        -6.93695899e-03,  1.56281423e-02, -6.14057295e-03,  1.97633822e-02,\n",
       "        -2.56496184e-02, -8.55882932e-03, -6.69188937e-03, -1.37871336e-02,\n",
       "        -1.60989556e-02, -6.38108049e-03,  4.70548049e-02, -3.73780495e-03,\n",
       "        -2.61348113e-02,  9.47331078e-04,  5.62971551e-03, -4.70339321e-02,\n",
       "        -2.40904056e-02, -1.03060193e-01,  3.95706445e-02,  1.86298881e-02,\n",
       "         1.22608533e-02, -2.66108941e-02,  8.73112585e-03, -1.45036234e-02,\n",
       "        -2.18206309e-02, -5.02305292e-02, -1.87203996e-02, -1.50401853e-02,\n",
       "        -3.63761676e-03,  1.26318280e-02,  3.22695635e-02,  2.52542272e-02,\n",
       "        -2.95263138e-02, -1.22712282e-02, -1.14217969e-02, -9.44956299e-03,\n",
       "         1.85265733e-07, -3.20790559e-02,  2.90723182e-02,  1.50097972e-02,\n",
       "         4.58586141e-02, -4.58980836e-02,  8.51313770e-02,  1.87606085e-02,\n",
       "        -7.52922613e-03, -9.47741140e-03,  2.20604483e-02, -1.64592601e-02,\n",
       "         1.37806498e-02, -5.93534159e-03,  1.98825877e-02, -1.72281936e-02,\n",
       "        -5.15167899e-02,  7.51994327e-02, -2.18110941e-02,  1.31388460e-05,\n",
       "        -4.08614501e-02, -2.18479615e-02,  7.75561407e-02,  6.59543127e-02,\n",
       "         3.45364250e-02,  6.32860651e-03, -3.45286988e-02,  2.41718236e-02,\n",
       "        -5.22142760e-02, -4.00031125e-03, -4.70077358e-02, -7.21943052e-03,\n",
       "        -6.05985224e-02, -4.96256491e-03, -1.06796166e-02,  3.90087366e-02,\n",
       "        -4.15896066e-03,  5.15687466e-02,  1.44929662e-02,  8.72986764e-03,\n",
       "         5.83561435e-02, -4.20900397e-02, -3.73955793e-03, -4.08154801e-02,\n",
       "        -3.81656662e-02,  2.13401206e-03,  3.52094206e-03, -6.06532115e-03,\n",
       "        -2.75367089e-02, -1.17570255e-02, -2.33174232e-03,  2.78418493e-02,\n",
       "        -2.67389044e-02,  2.94056088e-02, -3.15133668e-02, -4.89005772e-03,\n",
       "        -3.41906655e-03,  4.42338213e-02,  1.56635232e-02,  1.01597589e-02,\n",
       "        -8.11970532e-02, -8.72262535e-06,  4.35417071e-02, -3.40958359e-03,\n",
       "         1.32463649e-01, -5.27367927e-02,  4.36556749e-02,  3.99109311e-02,\n",
       "         6.80548838e-35,  2.35434137e-02, -4.56788391e-02, -3.64247225e-02,\n",
       "         3.97050977e-02, -2.14084238e-02, -1.54702680e-03,  9.18157026e-02,\n",
       "        -7.23868795e-03,  7.68456794e-03,  2.62085106e-02, -2.25906796e-03],\n",
       "       dtype=float32)]"
      ]
     },
     "execution_count": 56,
     "metadata": {},
     "output_type": "execute_result"
    }
   ],
   "source": [
    "[vec]"
   ]
  },
  {
   "cell_type": "code",
   "execution_count": 57,
   "metadata": {},
   "outputs": [
    {
     "data": {
      "text/plain": [
       "(1, 768)"
      ]
     },
     "execution_count": 57,
     "metadata": {},
     "output_type": "execute_result"
    }
   ],
   "source": [
    "import numpy as np\n",
    "svec = np.array(vec).reshape(1,-1)\n",
    "svec.shape"
   ]
  },
  {
   "cell_type": "code",
   "execution_count": 62,
   "metadata": {},
   "outputs": [],
   "source": [
    "faiss.normalize_L2(svec)"
   ]
  },
  {
   "cell_type": "code",
   "execution_count": 64,
   "metadata": {},
   "outputs": [
    {
     "data": {
      "text/plain": [
       "array([[1.3844839, 1.4039097]], dtype=float32)"
      ]
     },
     "execution_count": 64,
     "metadata": {},
     "output_type": "execute_result"
    }
   ],
   "source": [
    "distances, I = index.search(svec, k=2)\n",
    "distances"
   ]
  },
  {
   "cell_type": "code",
   "execution_count": 65,
   "metadata": {},
   "outputs": [
    {
     "data": {
      "text/plain": [
       "array([[3, 2]], dtype=int64)"
      ]
     },
     "execution_count": 65,
     "metadata": {},
     "output_type": "execute_result"
    }
   ],
   "source": [
    "I"
   ]
  },
  {
   "cell_type": "code",
   "execution_count": 68,
   "metadata": {},
   "outputs": [
    {
     "data": {
      "text/html": [
       "<div>\n",
       "<style scoped>\n",
       "    .dataframe tbody tr th:only-of-type {\n",
       "        vertical-align: middle;\n",
       "    }\n",
       "\n",
       "    .dataframe tbody tr th {\n",
       "        vertical-align: top;\n",
       "    }\n",
       "\n",
       "    .dataframe thead th {\n",
       "        text-align: right;\n",
       "    }\n",
       "</style>\n",
       "<table border=\"1\" class=\"dataframe\">\n",
       "  <thead>\n",
       "    <tr style=\"text-align: right;\">\n",
       "      <th></th>\n",
       "      <th>text</th>\n",
       "      <th>category</th>\n",
       "    </tr>\n",
       "  </thead>\n",
       "  <tbody>\n",
       "    <tr>\n",
       "      <th>3</th>\n",
       "      <td>Vibrant color jeans for male are becoming a trend</td>\n",
       "      <td>Fashion</td>\n",
       "    </tr>\n",
       "    <tr>\n",
       "      <th>2</th>\n",
       "      <td>These are the latest fashion trends for this week</td>\n",
       "      <td>Fashion</td>\n",
       "    </tr>\n",
       "  </tbody>\n",
       "</table>\n",
       "</div>"
      ],
      "text/plain": [
       "                                                text category\n",
       "3  Vibrant color jeans for male are becoming a trend  Fashion\n",
       "2  These are the latest fashion trends for this week  Fashion"
      ]
     },
     "execution_count": 68,
     "metadata": {},
     "output_type": "execute_result"
    }
   ],
   "source": [
    "df.loc[I[0]]"
   ]
  },
  {
   "cell_type": "code",
   "execution_count": 69,
   "metadata": {},
   "outputs": [
    {
     "data": {
      "text/plain": [
       "'I want to buy a polo t-shirt'"
      ]
     },
     "execution_count": 69,
     "metadata": {},
     "output_type": "execute_result"
    }
   ],
   "source": [
    "search_query"
   ]
  },
  {
   "cell_type": "code",
   "execution_count": 70,
   "metadata": {},
   "outputs": [
    {
     "data": {
      "text/html": [
       "<div>\n",
       "<style scoped>\n",
       "    .dataframe tbody tr th:only-of-type {\n",
       "        vertical-align: middle;\n",
       "    }\n",
       "\n",
       "    .dataframe tbody tr th {\n",
       "        vertical-align: top;\n",
       "    }\n",
       "\n",
       "    .dataframe thead th {\n",
       "        text-align: right;\n",
       "    }\n",
       "</style>\n",
       "<table border=\"1\" class=\"dataframe\">\n",
       "  <thead>\n",
       "    <tr style=\"text-align: right;\">\n",
       "      <th></th>\n",
       "      <th>text</th>\n",
       "      <th>category</th>\n",
       "    </tr>\n",
       "  </thead>\n",
       "  <tbody>\n",
       "    <tr>\n",
       "      <th>0</th>\n",
       "      <td>Meditation and yoga can improve mental health</td>\n",
       "      <td>Health</td>\n",
       "    </tr>\n",
       "    <tr>\n",
       "      <th>1</th>\n",
       "      <td>Fruits, whole grains and vegetables helps control blood pressure</td>\n",
       "      <td>Health</td>\n",
       "    </tr>\n",
       "    <tr>\n",
       "      <th>2</th>\n",
       "      <td>These are the latest fashion trends for this week</td>\n",
       "      <td>Fashion</td>\n",
       "    </tr>\n",
       "    <tr>\n",
       "      <th>3</th>\n",
       "      <td>Vibrant color jeans for male are becoming a trend</td>\n",
       "      <td>Fashion</td>\n",
       "    </tr>\n",
       "    <tr>\n",
       "      <th>4</th>\n",
       "      <td>The concert starts at 7 PM tonight</td>\n",
       "      <td>Event</td>\n",
       "    </tr>\n",
       "    <tr>\n",
       "      <th>5</th>\n",
       "      <td>Navaratri dandiya program at Expo center in Mumbai this october</td>\n",
       "      <td>Event</td>\n",
       "    </tr>\n",
       "    <tr>\n",
       "      <th>6</th>\n",
       "      <td>Exciting vacation destinations for your next trip</td>\n",
       "      <td>Travel</td>\n",
       "    </tr>\n",
       "    <tr>\n",
       "      <th>7</th>\n",
       "      <td>Maldives and Srilanka are gaining popularity in terms of low budget vacation places</td>\n",
       "      <td>Travel</td>\n",
       "    </tr>\n",
       "  </tbody>\n",
       "</table>\n",
       "</div>"
      ],
      "text/plain": [
       "                                                                                  text  \\\n",
       "0                                        Meditation and yoga can improve mental health   \n",
       "1                     Fruits, whole grains and vegetables helps control blood pressure   \n",
       "2                                    These are the latest fashion trends for this week   \n",
       "3                                    Vibrant color jeans for male are becoming a trend   \n",
       "4                                                   The concert starts at 7 PM tonight   \n",
       "5                      Navaratri dandiya program at Expo center in Mumbai this october   \n",
       "6                                    Exciting vacation destinations for your next trip   \n",
       "7  Maldives and Srilanka are gaining popularity in terms of low budget vacation places   \n",
       "\n",
       "  category  \n",
       "0   Health  \n",
       "1   Health  \n",
       "2  Fashion  \n",
       "3  Fashion  \n",
       "4    Event  \n",
       "5    Event  \n",
       "6   Travel  \n",
       "7   Travel  "
      ]
     },
     "execution_count": 70,
     "metadata": {},
     "output_type": "execute_result"
    }
   ],
   "source": [
    "df"
   ]
  }
 ],
 "metadata": {
  "kernelspec": {
   "display_name": "Python 3",
   "language": "python",
   "name": "python3"
  },
  "language_info": {
   "codemirror_mode": {
    "name": "ipython",
    "version": 3
   },
   "file_extension": ".py",
   "mimetype": "text/x-python",
   "name": "python",
   "nbconvert_exporter": "python",
   "pygments_lexer": "ipython3",
   "version": "3.12.0"
  }
 },
 "nbformat": 4,
 "nbformat_minor": 2
}
